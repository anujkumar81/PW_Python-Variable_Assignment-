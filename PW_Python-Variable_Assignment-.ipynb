{
 "cells": [
  {
   "cell_type": "code",
   "execution_count": null,
   "id": "959ad397-fa6e-4e5b-9fa3-69bf7528327c",
   "metadata": {},
   "outputs": [],
   "source": [
    "#Q1. Write all the conventions being followed while declaring a variable.\n",
    "\n",
    "#Answer\n",
    "'''Variable Names: Variable names should be descriptive, indicating the purpose or content of the variable. \n",
    "                They should start with a lowercase letter and use lowercase letters, numbers, or underscores. Variable names should not start with a number, and should not\n",
    "                be a reserved keyword in Python.\n",
    "Snake Case: Variable names are generally written in snake_case, which means words are separated by underscores. For example: my_variable, count, result.\n",
    "Avoiding Single Letter Variable Names: Variable names should be meaningful and not overly short or ambiguous. \n",
    "                Single letter variable names, like x, y, or z, should generally be avoided, unless used as loop iterators or for other specific purposes.\n",
    "Initializations: Variables should be initialized with a default value or assigned a value as soon as possible after declaration to prevent potential bugs \n",
    "                 caused by uninitialized variables.\n",
    "Type Hints: Optionally, type hints can be used to specify the expected data type of a variable. This helps with code readability and provides\n",
    "             guidance to other developers who may use or modify the code.\n",
    "Avoiding Global Variables: Global variables should be minimized as they can lead to confusion and make code harder to maintain.\n",
    "              It's generally recommended to use local variables within functions or classes, and pass them as arguments if needed.\n",
    "Naming Conventions for Constants: Constants, which are variables whose values should not change during the execution of the program,\n",
    "                are usually written in ALL_CAPS_WITH_UNDERSCORES to indicate that they are not meant to be modified.\n",
    "Using Meaningful Variable Names: Variable names should be meaningful and indicate the purpose or content of the variable, making the code more\n",
    "                 readable and self-explanatory.'''"
   ]
  },
  {
   "cell_type": "code",
   "execution_count": null,
   "id": "4cb505ef-427a-4476-b91a-7f6e87d039bf",
   "metadata": {},
   "outputs": [],
   "source": [
    "#Q2. What will happen if we declare a restricted keyword as a variable?\n",
    "#Answer;\n",
    "\"\"\"If you declare a restricted keyword as a variable in Python, you will encounter a syntax error.\n",
    "Restricted keywords, also known as reserved words, are predefined keywords in Python that have special meanings and are used \n",
    "for specific purposes in the language.These keywords cannot be used as variable names, as \n",
    "they are reserved for specific syntactic or operational purposes in Python.\"\"\""
   ]
  },
  {
   "cell_type": "code",
   "execution_count": null,
   "id": "ec12a3e0-f97b-4bca-8c8e-cbaa2a5f5515",
   "metadata": {},
   "outputs": [],
   "source": [
    "#Q3. Can we actually declare a string as a variable name?\n",
    "#Answer\n",
    "it is not possible to declare a string literal, such as \"hello\" or \"my_variable\", as a\n",
    "variable name directly. Attempting to do so will result in a syntax error"
   ]
  },
  {
   "cell_type": "code",
   "execution_count": null,
   "id": "4ea0b937-2ae1-48bb-8555-9ca66e0c6b32",
   "metadata": {},
   "outputs": [],
   "source": [
    "#Q4. Is it possible for us to declare “_” as a variable? If so, then write an example of it.\n",
    "#Anwer;\n",
    "Yes, in Python, you can use an underscore (_) as a variable name. \n",
    "The underscore is considered a valid character for variable names, and it has a special meaning in certain contexts."
   ]
  },
  {
   "cell_type": "code",
   "execution_count": null,
   "id": "534bc5ed-95d7-41bc-8ae9-1ab30d31246f",
   "metadata": {},
   "outputs": [],
   "source": [
    "#Q5. Using an example, explain how the variables in python are dynamic in nature.\n",
    "#Answer\n",
    "'''In Python, variables are dynamic in nature, which means their data type and value can be changed during the execution of a program.\n",
    "This dynamic behavior of variables in Python allows for flexibility and ease of use.\n",
    "\n",
    "# Declare a variable and assign an integer value\n",
    "my_variable = 10\n",
    "print(my_variable)  # Outputs: 10\n",
    "\n",
    "# Change the value of the variable to a string\n",
    "my_variable = \"Hello\"\n",
    "print(my_variable)  # Outputs: Hello\n",
    "\n",
    "# Change the value of the variable to a list\n",
    "my_variable = [1, 2, 3]\n",
    "print(my_variable)  # Outputs: [1, 2, 3]\n",
    "'''"
   ]
  }
 ],
 "metadata": {
  "kernelspec": {
   "display_name": "Python 3 (ipykernel)",
   "language": "python",
   "name": "python3"
  },
  "language_info": {
   "codemirror_mode": {
    "name": "ipython",
    "version": 3
   },
   "file_extension": ".py",
   "mimetype": "text/x-python",
   "name": "python",
   "nbconvert_exporter": "python",
   "pygments_lexer": "ipython3",
   "version": "3.10.8"
  }
 },
 "nbformat": 4,
 "nbformat_minor": 5
}
